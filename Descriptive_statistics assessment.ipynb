{
 "cells": [
  {
   "cell_type": "code",
   "execution_count": 51,
   "id": "aa9d2adb",
   "metadata": {},
   "outputs": [],
   "source": [
    "import numpy as np,pandas as pd"
   ]
  },
  {
   "cell_type": "code",
   "execution_count": 52,
   "id": "71ca62ce",
   "metadata": {},
   "outputs": [],
   "source": [
    "p =np.genfromtxt( r'C:\\Users\\Sam\\Downloads\\Sample_data (1).csv',delimiter=',',skip_header=1)"
   ]
  },
  {
   "cell_type": "code",
   "execution_count": 53,
   "id": "ce09ad17",
   "metadata": {
    "scrolled": true
   },
   "outputs": [
    {
     "data": {
      "text/plain": [
       "array([[ 0., 25., 40.],\n",
       "       [ 1., 30., 35.],\n",
       "       [ 2., 28., 38.],\n",
       "       [ 3., 32., 41.],\n",
       "       [ 4., 26., 37.],\n",
       "       [ 5., 29., 36.],\n",
       "       [ 6., 27., 39.],\n",
       "       [ 7., 33., 42.],\n",
       "       [ 8., 31., 38.],\n",
       "       [ 9., 28., 37.],\n",
       "       [10., 30., 40.],\n",
       "       [11., 29., 36.]])"
      ]
     },
     "execution_count": 53,
     "metadata": {},
     "output_type": "execute_result"
    }
   ],
   "source": [
    "p"
   ]
  },
  {
   "cell_type": "markdown",
   "id": "72a32631",
   "metadata": {},
   "source": [
    "# Measures of Central Tendency:"
   ]
  },
  {
   "cell_type": "markdown",
   "id": "30648e31",
   "metadata": {},
   "source": [
    "1. Calculate the mean sales for Product A and Product B. Compare the average monthly sales for the two products and discuss any observed trends."
   ]
  },
  {
   "cell_type": "code",
   "execution_count": 63,
   "id": "c9fbe755",
   "metadata": {},
   "outputs": [
    {
     "name": "stdout",
     "output_type": "stream",
     "text": [
      "    Product_A  Product_B\n",
      "0          25         40\n",
      "1          30         35\n",
      "2          28         38\n",
      "3          32         41\n",
      "4          26         37\n",
      "5          29         36\n",
      "6          27         39\n",
      "7          33         42\n",
      "8          31         38\n",
      "9          28         37\n",
      "10         30         40\n",
      "11         29         36\n"
     ]
    }
   ],
   "source": [
    "x={'Product_A':[25,30,28,32,26,29,27,33,31,28,30,29],'Product_B':[40,35,38,41,37,36,39,42,38,37,40,36]}\n",
    "Table=pd.DataFrame(x)\n",
    "print(Table)\n",
    "\n",
    "mean_value = np.mean(Table)"
   ]
  },
  {
   "cell_type": "code",
   "execution_count": 72,
   "id": "c5b2def0",
   "metadata": {},
   "outputs": [
    {
     "name": "stdout",
     "output_type": "stream",
     "text": [
      "The mean for the sale of product is : Product_A    29.00\n",
      "Product_B    38.25\n",
      "dtype: float64\n"
     ]
    }
   ],
   "source": [
    "# mean for the sale  of Product_A and Product_B\n",
    "print(f'The mean for the sale of product is :',Table.mean())"
   ]
  },
  {
   "cell_type": "markdown",
   "id": "c0801897",
   "metadata": {},
   "source": [
    "#### product B's mean(38.25) is higher than product A's(29.00) mean by this we can say that product B is leading by 9.25 sales in the market as the average sales are higher"
   ]
  },
  {
   "cell_type": "markdown",
   "id": "dc92ac13",
   "metadata": {},
   "source": [
    "2. Find the median sales for each product and discuss how it reflects the central tendency of the sales distribution"
   ]
  },
  {
   "cell_type": "code",
   "execution_count": 81,
   "id": "70a0f7ea",
   "metadata": {},
   "outputs": [
    {
     "data": {
      "text/plain": [
       "[('Product_A',\n",
       "  0     25\n",
       "  1     30\n",
       "  2     28\n",
       "  3     32\n",
       "  4     26\n",
       "  5     29\n",
       "  6     27\n",
       "  7     33\n",
       "  8     31\n",
       "  9     28\n",
       "  10    30\n",
       "  11    29\n",
       "  Name: Product_A, dtype: int64),\n",
       " ('Product_B',\n",
       "  0     40\n",
       "  1     35\n",
       "  2     38\n",
       "  3     41\n",
       "  4     37\n",
       "  5     36\n",
       "  6     39\n",
       "  7     42\n",
       "  8     38\n",
       "  9     37\n",
       "  10    40\n",
       "  11    36\n",
       "  Name: Product_B, dtype: int64)]"
      ]
     },
     "execution_count": 81,
     "metadata": {},
     "output_type": "execute_result"
    }
   ],
   "source": [
    "sbv = sorted(Table.items())\n",
    "sbv"
   ]
  },
  {
   "cell_type": "code",
   "execution_count": 83,
   "id": "53f3f767",
   "metadata": {},
   "outputs": [
    {
     "name": "stdout",
     "output_type": "stream",
     "text": [
      "Sorted Values in Ascending order : {'Product_A': [25, 26, 27, 28, 28, 29, 29, 30, 30, 31, 32, 33], 'Product_B': [35, 36, 36, 37, 37, 38, 38, 39, 40, 40, 41, 42]}\n"
     ]
    }
   ],
   "source": [
    "x = {'Product_A': [25, 30, 28, 32, 26, 29, 27, 33, 31, 28, 30, 29],\n",
    "     'Product_B': [40, 35, 38, 41, 37, 36, 39, 42, 38, 37, 40, 36]}\n",
    "\n",
    "sortedvalues = {product: sorted(values) for product, values in x.items()}\n",
    "\n",
    "print(\"Sorted Values in Ascending order :\", sortedvalues)\n"
   ]
  },
  {
   "cell_type": "code",
   "execution_count": 84,
   "id": "83ae0624",
   "metadata": {},
   "outputs": [
    {
     "name": "stdout",
     "output_type": "stream",
     "text": [
      "The mean for the sale of product is : Product_A    29.0\n",
      "Product_B    38.0\n",
      "dtype: float64\n"
     ]
    }
   ],
   "source": [
    "# mean for the sale  of Product_A and Product_B\n",
    "print(f'The mean for the sale of product is :',Table.median())"
   ]
  },
  {
   "cell_type": "markdown",
   "id": "739be206",
   "metadata": {},
   "source": [
    "#### after sorting the data the data set count is in even so we cans ee there are 12 values in wich the 6th one will be the median so the list of product B have the greater median most of the values are below 38 in product B and half of the distribution is greter that 38 so we can say that the product B are the outliers related to product A"
   ]
  },
  {
   "cell_type": "markdown",
   "id": "e4021ca9",
   "metadata": {},
   "source": [
    "3. Identify the mode of the sales data for both Product A and Product B. Discuss the significance of the mode in the context of these products.\n"
   ]
  },
  {
   "cell_type": "code",
   "execution_count": 96,
   "id": "e2e9a184",
   "metadata": {},
   "outputs": [],
   "source": [
    "def mode(data):\n",
    "    frequency = {}\n",
    "    for value in data:\n",
    "        if value in frequency:\n",
    "            frequency[value] += 1\n",
    "        else:\n",
    "            frequency[value] = 1\n",
    "    modevalue = max(frequency, key=frequency.get)\n",
    "    modefrequency = frequency[modevalue]\n",
    "    return modevalue, modefrequency\n",
    "x = {'Product_A': [25, 30, 28, 32, 26, 29, 27, 33, 31, 28, 30, 29],\n",
    "     'Product_B': [40, 35, 38, 41, 37, 36, 39, 42, 38, 37, 40, 36]}"
   ]
  },
  {
   "cell_type": "code",
   "execution_count": 97,
   "id": "1f94ef4d",
   "metadata": {},
   "outputs": [
    {
     "name": "stdout",
     "output_type": "stream",
     "text": [
      "Mode of Product A Sales: 30 with frequency: 2\n",
      "Mode of Product B Sales: 40 with frequency: 2\n"
     ]
    }
   ],
   "source": [
    "modesalesA, modefrequencyA = mode(x['Product_A'])\n",
    "modesalesB, modefrequencyB = mode(x['Product_B'])\n",
    "print(\"Mode of Product A Sales:\", modesalesA, \"with frequency:\", modefrequencyA)\n",
    "print(\"Mode of Product B Sales:\", modesalesB, \"with frequency:\", modefrequencyB)\n"
   ]
  },
  {
   "cell_type": "code",
   "execution_count": 98,
   "id": "eeaddb49",
   "metadata": {},
   "outputs": [],
   "source": [
    "import statistics"
   ]
  },
  {
   "cell_type": "code",
   "execution_count": 101,
   "id": "5c18f86f",
   "metadata": {},
   "outputs": [
    {
     "data": {
      "text/plain": [
       "array([25., 30., 28., 32., 26., 29., 27., 33., 31., 28., 30., 29.])"
      ]
     },
     "execution_count": 101,
     "metadata": {},
     "output_type": "execute_result"
    }
   ],
   "source": [
    "product_A=p[:,1]\n",
    "product_A"
   ]
  },
  {
   "cell_type": "code",
   "execution_count": 102,
   "id": "2ce1fce0",
   "metadata": {},
   "outputs": [
    {
     "data": {
      "text/plain": [
       "array([40., 35., 38., 41., 37., 36., 39., 42., 38., 37., 40., 36.])"
      ]
     },
     "execution_count": 102,
     "metadata": {},
     "output_type": "execute_result"
    }
   ],
   "source": [
    "product_B=p[:,2]\n",
    "product_B"
   ]
  },
  {
   "cell_type": "code",
   "execution_count": 105,
   "id": "7a59edc8",
   "metadata": {},
   "outputs": [
    {
     "data": {
      "text/plain": [
       "30.0"
      ]
     },
     "execution_count": 105,
     "metadata": {},
     "output_type": "execute_result"
    }
   ],
   "source": [
    "statistics.mode(product_A)"
   ]
  },
  {
   "cell_type": "code",
   "execution_count": 106,
   "id": "bb717996",
   "metadata": {},
   "outputs": [
    {
     "data": {
      "text/plain": [
       "40.0"
      ]
     },
     "execution_count": 106,
     "metadata": {},
     "output_type": "execute_result"
    }
   ],
   "source": [
    "statistics.mode(product_B)"
   ]
  },
  {
   "cell_type": "markdown",
   "id": "d93acce2",
   "metadata": {},
   "source": [
    "#### Understanding the mode is valuable for businesses as it helps them identify patterns and make informed decisions based on the most frequently observed sales outcomes."
   ]
  },
  {
   "cell_type": "markdown",
   "id": "4ac682c8",
   "metadata": {},
   "source": [
    "4. Calculate the weighted mean of the sales data, assuming each month has an equal weight. Discuss any implications of using weighted mean in this context.\n"
   ]
  },
  {
   "cell_type": "code",
   "execution_count": 107,
   "id": "6342ee33",
   "metadata": {},
   "outputs": [
    {
     "name": "stdout",
     "output_type": "stream",
     "text": [
      "Weighted Mean of Product A Sales: 29.0\n",
      "Weighted Mean of Product B Sales: 38.25\n"
     ]
    }
   ],
   "source": [
    "x = {'Product_A': [25, 30, 28, 32, 26, 29, 27, 33, 31, 28, 30, 29],\n",
    "     'Product_B': [40, 35, 38, 41, 37, 36, 39, 42, 38, 37, 40, 36]}\n",
    "\n",
    "weightedmeanofA = sum(x['Product_A']) / len(x['Product_A'])\n",
    "weightedmeanofB = sum(x['Product_B']) / len(x['Product_B'])\n",
    "\n",
    "print(\"Weighted Mean of Product A Sales:\", weightedmeanofA)\n",
    "print(\"Weighted Mean of Product B Sales:\", weightedmeanofB)\n"
   ]
  },
  {
   "cell_type": "markdown",
   "id": "372508cf",
   "metadata": {},
   "source": [
    "# Measures of Dispersion:"
   ]
  },
  {
   "cell_type": "markdown",
   "id": "a14f7a6a",
   "metadata": {},
   "source": [
    "1. Compute the range of monthly sales for both Product A and Product B. Discuss how the range provides insights into the variability of sales.\n"
   ]
  },
  {
   "cell_type": "code",
   "execution_count": 108,
   "id": "572c88b2",
   "metadata": {},
   "outputs": [
    {
     "name": "stdout",
     "output_type": "stream",
     "text": [
      "Range of Product A Sales: 8\n",
      "Range of Product B Sales: 7\n"
     ]
    }
   ],
   "source": [
    "x = {'Product_A': [25, 30, 28, 32, 26, 29, 27, 33, 31, 28, 30, 29],\n",
    "     'Product_B': [40, 35, 38, 41, 37, 36, 39, 42, 38, 37, 40, 36]}\n",
    "rangeA = max(x['Product_A']) - min(x['Product_A'])\n",
    "rangeB = max(x['Product_B']) - min(x['Product_B'])\n",
    "\n",
    "print(\"Range of Product A Sales:\", rangeA)\n",
    "print(\"Range of Product B Sales:\", rangeB)\n"
   ]
  },
  {
   "cell_type": "markdown",
   "id": "9468e388",
   "metadata": {},
   "source": [
    "#### Range is calculated as the difference between the maximum and minimum sales values, providing a measure of variability.the range provides a simple measure of how much sales values vary over the observed period and will be able to understand the market and plan the sales accordingly for the future endovers,In the above problem product B has larger range representing more variability in monthly sales compared to product A"
   ]
  },
  {
   "cell_type": "markdown",
   "id": "8ace1a92",
   "metadata": {},
   "source": [
    "2. Calculate the variance of the sales data for both products. Discuss what the variance reveals about the spread of sales for each product."
   ]
  },
  {
   "cell_type": "code",
   "execution_count": 110,
   "id": "31724228",
   "metadata": {},
   "outputs": [
    {
     "data": {
      "text/plain": [
       "Product_A    5.166667\n",
       "Product_B    4.354167\n",
       "dtype: float64"
      ]
     },
     "execution_count": 110,
     "metadata": {},
     "output_type": "execute_result"
    }
   ],
   "source": [
    "np.var(Table)"
   ]
  },
  {
   "cell_type": "markdown",
   "id": "cb5d7910",
   "metadata": {},
   "source": [
    "3. Determine the standard deviation of the sales for Product A and Product B. Discuss the significance of standard deviation in understanding the variability in sales."
   ]
  },
  {
   "cell_type": "code",
   "execution_count": 111,
   "id": "3187bb0f",
   "metadata": {},
   "outputs": [
    {
     "data": {
      "text/plain": [
       "Product_A    2.273030\n",
       "Product_B    2.086664\n",
       "dtype: float64"
      ]
     },
     "execution_count": 111,
     "metadata": {},
     "output_type": "execute_result"
    }
   ],
   "source": [
    "np.std(Table)"
   ]
  },
  {
   "cell_type": "markdown",
   "id": "de4d6a2b",
   "metadata": {},
   "source": [
    "product B is with lower standard deviation , this indicates more stable and consistent sales performence with less variabilty\n",
    "product A is with Higher standard deviation suggests greater variability in monthly sales, this indicates sales performence with higher variabilty unstable and inconsistent of sales"
   ]
  },
  {
   "cell_type": "markdown",
   "id": "6e2c5edb",
   "metadata": {},
   "source": [
    "# Relative Measures of Dispersion:"
   ]
  },
  {
   "cell_type": "markdown",
   "id": "9212688b",
   "metadata": {},
   "source": [
    "1. Calculate the coefficient of variation for the sales data of Product A. Discuss how this relative measure of dispersion helps in comparing the variability of products with different average sales."
   ]
  },
  {
   "cell_type": "code",
   "execution_count": 119,
   "id": "a1205e56",
   "metadata": {},
   "outputs": [
    {
     "data": {
      "text/plain": [
       "33.625"
      ]
     },
     "execution_count": 119,
     "metadata": {},
     "output_type": "execute_result"
    }
   ],
   "source": [
    "y=np.mean(Table)\n",
    "y"
   ]
  },
  {
   "cell_type": "code",
   "execution_count": 133,
   "id": "104ebf29",
   "metadata": {},
   "outputs": [
    {
     "name": "stdout",
     "output_type": "stream",
     "text": [
      "Coefficient of Variation for Product A: 7.838035458037848\n"
     ]
    }
   ],
   "source": [
    "product_A = [25, 30, 28, 32, 26, 29, 27, 33, 31, 28, 30, 29]\n",
    "a= np.mean(product_A)\n",
    "std_dev_A = np.std(product_A)\n",
    "cv_A = (std_dev_A / a) * 100\n",
    "print(\"Coefficient of Variation for Product A:\", cv_A)"
   ]
  },
  {
   "cell_type": "markdown",
   "id": "7c310a1a",
   "metadata": {},
   "source": [
    "2. Compute the relative range for Product B. Discuss how the relative range accounts for the scale of the sales data."
   ]
  },
  {
   "cell_type": "code",
   "execution_count": 132,
   "id": "117842dc",
   "metadata": {},
   "outputs": [
    {
     "name": "stdout",
     "output_type": "stream",
     "text": [
      "Relative Range for Product B: 18.30065359477124\n"
     ]
    }
   ],
   "source": [
    "product_B = [40, 35, 38, 41, 37, 36, 39, 42, 38, 37, 40, 36]\n",
    "range_B = max(product_B) - min(product_B)\n",
    "mean_B = np.mean(product_B)\n",
    "relative_range_B = (range_B / mean_B) * 100\n",
    "print(\"Relative Range for Product B:\", relative_range_B)"
   ]
  },
  {
   "cell_type": "markdown",
   "id": "e6e355f9",
   "metadata": {},
   "source": [
    "3. Determine the relative standard deviation for Product A. Interpret the result and discuss its implications for understanding the variability relative to the mean."
   ]
  },
  {
   "cell_type": "code",
   "execution_count": 131,
   "id": "c777232c",
   "metadata": {},
   "outputs": [
    {
     "name": "stdout",
     "output_type": "stream",
     "text": [
      "Relative Standard Deviation for Product A: 7.838035458037848\n"
     ]
    }
   ],
   "source": [
    "product_A = [25, 30, 28, 32, 26, 29, 27, 33, 31, 28, 30, 29]\n",
    "std_dev_A = np.std(product_A)\n",
    "mean_A = np.mean(product_A)\n",
    "rsd_A = (std_dev_A / mean_A) * 100\n",
    "print(\"Relative Standard Deviation for Product A:\", rsd_A)"
   ]
  },
  {
   "cell_type": "code",
   "execution_count": null,
   "id": "0b79e5ea",
   "metadata": {},
   "outputs": [],
   "source": []
  }
 ],
 "metadata": {
  "kernelspec": {
   "display_name": "Python 3 (ipykernel)",
   "language": "python",
   "name": "python3"
  },
  "language_info": {
   "codemirror_mode": {
    "name": "ipython",
    "version": 3
   },
   "file_extension": ".py",
   "mimetype": "text/x-python",
   "name": "python",
   "nbconvert_exporter": "python",
   "pygments_lexer": "ipython3",
   "version": "3.11.5"
  }
 },
 "nbformat": 4,
 "nbformat_minor": 5
}
